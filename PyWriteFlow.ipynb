{
 "cells": [
  {
   "cell_type": "markdown",
   "metadata": {},
   "source": [
    "imports everything necessary to access notebooks<br />--> grab cells put back code to cells to notebook, run code, and save result to a notebook"
   ]
  },
  {
   "cell_type": "code",
   "execution_count": 1,
   "metadata": {},
   "outputs": [
    {
     "name": "stderr",
     "output_type": "stream",
     "text": [
      "C:\\Users\\rrreg\\Anaconda3\\lib\\site-packages\\IPython\\nbformat.py:13: ShimWarning: The `IPython.nbformat` package has been deprecated since IPython 4.0. You should import from nbformat instead.\n",
      "  \"You should import from nbformat instead.\", ShimWarning)\n"
     ]
    }
   ],
   "source": [
    "import IPython.nbformat as nbf\n",
    "from  IPython.nbformat.v4.nbbase import (new_code_cell, new_markdown_cell)\n",
    "from nbconvert.preprocessors import ExecutePreprocessor\n",
    "import os\n",
    "import zipfile"
   ]
  },
  {
   "cell_type": "markdown",
   "metadata": {},
   "source": [
    "gets all of the cells (code and markdown) in the specified notebook or saves all text if other file<br />--> arr includes all cells, markdown and code and their info<br />-->code only includes code cells info and their relative position in the notebook<br /> the code cells' language must be in python"
   ]
  },
  {
   "cell_type": "code",
   "execution_count": 2,
   "metadata": {
    "collapsed": true
   },
   "outputs": [],
   "source": [
    "arr = []                                                                       # arr - saves code or markdown cells           \n",
    "code = []                                                                      # code - saves code cells\n",
    "file = \"DiseaseAnalysis.ipynb\"                                                # file to be changed to a workflow\n",
    "if file[-6:].replace(\" \",\"\") == \".ipynb\":                                      # if file is ipython notebook\n",
    "    with open(file,\"r\") as r:                                                  # open and read file\n",
    "        nb = nbf.read(r,3)\n",
    "        for x in nb.worksheets:\n",
    "            for cell in x.cells:\n",
    "                if cell.cell_type == \"markdown\" or cell.cell_type == \"heading\":# if cell is markdown cell,put in arr info & type\n",
    "                    arr.append([cell.source,\"markdown\"])                     \n",
    "                elif cell.cell_type ==\"code\":                                  # if cell is code cell\n",
    "                    if not cell.language == 'python':                          # if language is not python, throw error\n",
    "                        raise ValueError('Code must be in python!')\n",
    "                    arr.append([cell.input,\"code\"])                      # put in arr info & type, put in code info and position\n",
    "                    code.append([cell.input.split(\"\\n\"),len(arr)])\n",
    "else:                                     # if not ipynb\n",
    "    with open(file) as r:\n",
    "        arr.append([file.read(),\"code\"])  # put in arr its info and that it is code\n",
    "        code.append([file.readlines(),1]) # put in code its info"
   ]
  },
  {
   "cell_type": "markdown",
   "metadata": {},
   "source": [
    "deal w strings by putting all in an array <br />\n",
    "deal w comments by putting in an array and adding it back later"
   ]
  },
  {
   "cell_type": "code",
   "execution_count": 3,
   "metadata": {},
   "outputs": [
    {
     "name": "stdout",
     "output_type": "stream",
     "text": [
      "with open(mode = \"r+\",file = \"d\") as d:\n",
      "with open(mode = sys.agrv[]1,file = \"d\") as d:\n",
      "    with open (\"da\",\"r\") as da:\n",
      "    with open (sys.agrv[]3,\"r\") as da:\n",
      "with open(\"sup\",\"w\") as w:\n",
      "with open(sys.agrv[]5,\"w\") as w:\n"
     ]
    }
   ],
   "source": [
    "def findFirstQuote(st):                 # returns where the first quote is in given string\n",
    "    if not \"'\" in st and not '\"' in st: \n",
    "        return [-1]\n",
    "    if not '\"' in st:\n",
    "        return [st.find(\"'\"),\"'\"]\n",
    "    if not \"'\" in st:\n",
    "        return [st.find('\"'),'\"']\n",
    "    if st.find('\"') > st.find(\"'\"):\n",
    "        return [st.find(\"'\"),\"'\"]\n",
    "    return [st.find('\"'),'\"']\n",
    "def findRealQuote(q,st):                # q is the type of quotation which came first (\" or ')\n",
    "                                        # returns the location of the end of the string\n",
    "    n = 0                               # n is the number of characters after q that the location of the end of the string is\n",
    "    while not st[:st.find(q)+1].count(\"\\\\\"+q)==0: # while quote could be fake (e.g.\\' the ' would not be the end of string)\n",
    "        while not st[:st.find(q)+1].count(\"\\\\\\\\\") == 0: # replace all faking fakers (eg \"\\\\\" the \" = end of string)\n",
    "            st = st[:st.find(\"\\\\\\\\\")]+st[st.find(\"\\\\\\\\\")+2:]\n",
    "            n+=2\n",
    "        if not st[:st.find(q)+1].count(\"\\\\\"+q)==0:\n",
    "            st = st[:st.find(\"\\\\\"+q)]+st[st.find(\"\\\\\"+q)+2:]\n",
    "            n+=2\n",
    "    return st.find(q)+n\n",
    "def isOpeningFile(st):\n",
    "    if not st.replace(\" \",\"\").find(\"open(\")==-1:\n",
    "        print(st)\n",
    "        t = st[:st.index(\"(\")]\n",
    "        lastChar = t[t.rfind(\"open\")-1]\n",
    "        if lastChar == '.' or lastChar == '=' or lastChar == \" \":\n",
    "            s = st[st.index(\"(\")+1:st.rfind(\")\")].replace(\" \",\"\")\n",
    "            return True   \n",
    "    return False  \n",
    "strings = []\n",
    "files = []\n",
    "for i in range(0,len(code)):\n",
    "    for j in range(0,len(code[i][0])):\n",
    "        code[i][0][j] = [code[i][0][j],\"\"]\n",
    "    j = 0\n",
    "    while j < len(code[i][0]):\n",
    "        dealt = False\n",
    "        if '\"\"\"' == code[i][0][j][0].replace(\" \",\"\")[:3]:\n",
    "            code[i][0][j][1]= code[i][0][j][0]\n",
    "            code[i][0][j][0]= ''\n",
    "            j +=1\n",
    "            while not '\"\"\"' in code[i][0][j][0] and not dealt:\n",
    "                code[i][0][j][1]= code[i][0][j][0]\n",
    "                code[i][0][j][0]= ''\n",
    "                j +=1\n",
    "                if '\"\"\"' in code[i][0][j][0]:\n",
    "                    code[i][0][j][1]= code[i][0][j][0]\n",
    "                    code[i][0][j][0]= ''\n",
    "                    dealt = True\n",
    "        if \"'''\" == code[i][0][j][0].replace(\" \",\"\")[:3]:\n",
    "            code[i][0][j][1]= code[i][0][j][0]\n",
    "            code[i][0][j][0]= ''\n",
    "            while not \"'''\" in code[i][0][j][0]:\n",
    "                j = j+1\n",
    "                code[i][0][j][1]= code[i][0][j][0]\n",
    "                code[i][0][j][0]= ''\n",
    "            code[i][0][j][1]= code[i][0][j][0]\n",
    "            code[i][0][j][0]= ''\n",
    "            dealt = True        \n",
    "        fstQt = findFirstQuote(code[i][0][j][0])\n",
    "        if not fstQt[0] == -1 and code[i][0][j][0][:fstQt[0]].count(\"#\")==0 and not dealt:\n",
    "            string = code[i][0][j][0][fstQt[0]+1:findRealQuote(fstQt[1],code[i][0][j][0][fstQt[0]+1:])+fstQt[0]+1]\n",
    "            if len(string.replace(\" \",\"\")) > 0:\n",
    "                if not isOpeningFile(code[i][0][j][0]):\n",
    "                    strings.append(string)\n",
    "                    code[i][0][j][0]=code[i][0][j][0][:fstQt[0]]+\"sys.arg[]\"+str(len(strings))+\"!\"+code[i][0][j][0][findRealQuote\\\n",
    "                                                    (fstQt[1],code[i][0][j][0][fstQt[0]+1:])+fstQt[0]+2:]\n",
    "                else:\n",
    "                    files.append(string)\n",
    "                    code[i][0][j][0]=code[i][0][j][0][:fstQt[0]]+\"sys.agrv[]\"+str(len(files))+code[i][0][j][0][findRealQuote\\\n",
    "                                                    (fstQt[1],code[i][0][j][0][fstQt[0]+1:])+fstQt[0]+2:]\n",
    "                dealt = True\n",
    "        if not dealt and  not code[i][0][j][0].find(\"#\")==-1:\n",
    "            code[i][0][j][1]= code[i][0][j][0][code[i][0][j][0].find(\"#\"):]\n",
    "            code[i][0][j][0]= code[i][0][j][0][:code[i][0][j][0].find(\"#\")]\n",
    "        if not dealt:\n",
    "            j +=1"
   ]
  },
  {
   "cell_type": "markdown",
   "metadata": {},
   "source": [
    "deal w comments by putting in an array and adding it back later"
   ]
  },
  {
   "cell_type": "markdown",
   "metadata": {},
   "source": [
    "if a \\ is at the end of a line, then combine with the next line"
   ]
  },
  {
   "cell_type": "code",
   "execution_count": 4,
   "metadata": {
    "collapsed": true
   },
   "outputs": [],
   "source": [
    "for i in range (0,len(code)):\n",
    "    j = 0\n",
    "    while j < len(code[i][0]):\n",
    "        if len(code[i][0][j][0])>0 and code[i][0][j][0][-1] == \"\\\\\": \n",
    "            k = 0\n",
    "            while code[i][0][j+1][0][k] ==\" \":\n",
    "                k+=1\n",
    "            code[i][0][j][0]=code[i][0][j][0][:-1]+\" \"+code[i][0][j+1][0][k:]\n",
    "            code[i][0][j][1]= code[i][0][j+1][1]\n",
    "            del code[i][0][j+1]\n",
    "        else:\n",
    "            j+=1"
   ]
  },
  {
   "cell_type": "markdown",
   "metadata": {},
   "source": [
    "Make a new line where a semicolon is except if it is in a string<br /> eg. temp = \"\";i = 3<br />becomes<br />temp = \"\"<br />i = 3"
   ]
  },
  {
   "cell_type": "code",
   "execution_count": 5,
   "metadata": {
    "collapsed": true
   },
   "outputs": [],
   "source": [
    "def spaces(s):\n",
    "    k = 0\n",
    "    while k < len(s) and s[k]==\" \":\n",
    "        k=k+1\n",
    "    return k\n",
    "for i in range(0,len(code)):\n",
    "    j = 0 \n",
    "    while j < len(code[i][0]):\n",
    "        if \";\" in code[i][0][j][0]:\n",
    "            fake = code[i][0][j][0].split(\";\")\n",
    "            code[i][0][j][0]= fake[0]\n",
    "            s = fake[0][:spaces(fake[0])]\n",
    "            for g in range(1,len(fake)):\n",
    "                code[i][0].insert(j+1,[s+fake[len(fake)-g][spaces(fake[len(fake)-g]):],''])\n",
    "        j = j+1        "
   ]
  },
  {
   "cell_type": "markdown",
   "metadata": {},
   "source": [
    "remove unnecessary spaces and new lines in code<br /> all ' are changed to \"<br />runs under assumption that there are no ' or \" in strings"
   ]
  },
  {
   "cell_type": "code",
   "execution_count": 6,
   "metadata": {
    "collapsed": true
   },
   "outputs": [],
   "source": [
    "for i in range(0,len(code)):\n",
    "    j = 0\n",
    "    while j < len(code[i][0]):\n",
    "        if len(code[i][0][j][0].replace(\" \",\"\")) ==0 and len(code[i][0][j][1])==0:\n",
    "            del code[i][0][j]\n",
    "        else:j = j+1\n",
    "for i in range(0,len(code)):\n",
    "    for j in range(0,len(code[i][0])):\n",
    "        k = spaces(code[i][0][j][0])\n",
    "        code[i][0][j][0]= code[i][0][j][0][:k] + \" \".join(code[i][0][j][0][k:].split())"
   ]
  },
  {
   "cell_type": "markdown",
   "metadata": {},
   "source": [
    "gets all of the imported libraries, puts them together, and sets up heading for code component of workflow<br />adds \"matplotlib.use(\\\"Agg\\\")\" if 'import matplotlib' is an imported library so that the output figure can be saved<br />also saves the imported library nicknames or names so that they will not be confused as variables/p"
   ]
  },
  {
   "cell_type": "code",
   "execution_count": 7,
   "metadata": {
    "collapsed": true
   },
   "outputs": [],
   "source": [
    "imports= \"import sys\\n\"\n",
    "b = ['sys']\n",
    "for i in range(0,len(code)):\n",
    "    j= 0\n",
    "    while j < len(code[i][0]): \n",
    "        if (code[i][0][j][0][:7] == 'import ' or  code[i][0][j][0][:5] == 'from '):\n",
    "            if not code[i][0][j][0] in imports:            \n",
    "                imports = imports + code[i][0][j][0] +\"\\n\"\n",
    "                if not \" as \" in code[i][0][j][0]:\n",
    "                    b.append(code[i][0][j][0][code[i][0][j][0].find(\"import\")+7:])\n",
    "                else:\n",
    "                    b.append(code[i][0][j][0][code[i][0][j][0].find(\" as \")+4:])\n",
    "            del code[i][0][j]\n",
    "        elif \"matplotlib.use(\" in code[i][0][j][0]:\n",
    "            del code[i][0][j]\n",
    "        else:\n",
    "            j= j+1\n",
    "if 'import matplotlib' in imports:\n",
    "    imports = imports.replace(\"import matplotlib\\n\",\"\")\n",
    "    imports = 'import matplotlib' + \"\\nmatplotlib.use(\\\"Agg\\\")\\n\" + imports\n",
    "imports = \"#!/usr/bin/env python\\n\" +imports"
   ]
  },
  {
   "cell_type": "markdown",
   "metadata": {},
   "source": [
    "Clean up cell magic<br />No cell magic allowed (other than for matplotlib allowed) or a value error will be thrown<br />all cell magic deleted"
   ]
  },
  {
   "cell_type": "code",
   "execution_count": 8,
   "metadata": {
    "collapsed": true
   },
   "outputs": [],
   "source": [
    "for i in range(0,len(code)):\n",
    "    j=0\n",
    "    while j <len(code[i][0]):\n",
    "        if code[i][0][j][0][:1] == \"%\":\n",
    "            if not \"matplotlib\" in code[i][0][j][0]:\n",
    "                raise ValueError('No cell magic allowed (other than for matplotlib allowed)')     \n",
    "            else:\n",
    "                del code[i][0][j]\n",
    "        else:\n",
    "            j = j+1"
   ]
  },
  {
   "cell_type": "markdown",
   "metadata": {},
   "source": [
    "grab all methods defined and puts in array methods(saves name and code then removes from code cell<br />runs under assumption that no methods have been overriden"
   ]
  },
  {
   "cell_type": "code",
   "execution_count": 9,
   "metadata": {
    "collapsed": true
   },
   "outputs": [],
   "source": [
    "methods = []\n",
    "for i in range(0,len(code)):\n",
    "    j = 0\n",
    "    while j < len(code[i][0]):\n",
    "        if code[i][0][j][0][:4] == \"def \":\n",
    "            t = code[i][0][j][0]\n",
    "            mName = t[t.index(' ')+1:t.index('(')]\n",
    "            mCode = [t,code[i][0][j][1]]\n",
    "            k = j\n",
    "            del code[i][0][j]\n",
    "            while k <len(code[i][0]):\n",
    "                if code[i][0][k][0][:4]==\"    \":\n",
    "                    mCode[0] = mCode[0] +\"\\n\" + code[i][0][k][0]\n",
    "                    mCode[1] = mCode[1]+\"\\n\"+code[i][0][k][1]\n",
    "                    del code[i][0][k]\n",
    "                else:\n",
    "                    k = len(code[i][0])\n",
    "            methods.append([mName,mCode])\n",
    "        else:\n",
    "            j = j+1"
   ]
  },
  {
   "cell_type": "markdown",
   "metadata": {},
   "source": [
    "relocate code in code cell if it uses a file opened in another cell"
   ]
  },
  {
   "cell_type": "code",
   "execution_count": 10,
   "metadata": {},
   "outputs": [
    {
     "name": "stdout",
     "output_type": "stream",
     "text": [
      "with open(mode = sys.agrv[]1,file = sys.agrv[]2) as d:\n",
      "    with open (sys.agrv[]3,sys.agrv[]4) as da:\n",
      "with open(sys.agrv[]5,sys.agrv[]6) as w:\n"
     ]
    }
   ],
   "source": [
    "def getFileName(st):\n",
    "    t = st[st.index(\"(\")+1:st.rfind(\")\")]\n",
    "    ind = st.index(\"(\")+1\n",
    "    t = t.replace(\" \",\"\")\n",
    "    if not t[0] == 's':\n",
    "        ind = ind + t.find(\"file=\")+5\n",
    "        t = t[t.find(\"file=\")+5:]\n",
    "    t = t[:t.find(\"]\")+2]\n",
    "    if st.count(\"=\")==0 or st.find(\"=\")>st.find(\"(\"):\n",
    "        return [t,ind,st[:st.index(\"(\")]+st[st.index(\"(\"):st.rfind(\")\")].replace(\" \",\"\")+st[st.rfind(\")\"):],False]\n",
    "    else:\n",
    "        return[t,ind,st[:st.index(\"(\")]+st[st.index(\"(\"):st.rfind(\")\")].replace(\" \",\"\")+st[st.rfind(\")\"):],\\\n",
    "               True,st[:st.find(\"=\")].replace(\" \",\"\")]\n",
    "def getMode(st,fileName):\n",
    "    t = st[st.index(\"(\")+1:st.rfind(\")\")]\n",
    "    t = t.replace(\" \",\"\"); t = t.replace(fileName,\"\")\n",
    "    a = t.split(\",\")\n",
    "    numDouble = 0\n",
    "    for i in range(0,len(a)):\n",
    "        if \"sys.agrv[]\" in a[i]:\n",
    "            return a[i][a[i].find(\"sys.agrv[]\"):a[i].find(\"sys.agrv[]\")+11]\n",
    "    return 'r'\n",
    "for i in range(0,len(code)):\n",
    "    for j in range (0,len(code[i][0])):\n",
    "        if isOpeningFile(code[i][0][j][0]) and \"sys.agrv[]\" in code[i][0][j][0]:\n",
    "            name = getFileName(code[i][0][j][0])\n",
    "            if name[3]:#whether the file is opened \"with open(...):\"\n",
    "                di= i;dj=j;closed = False;lastSeen = i\n",
    "                while not closed and di <len(code):\n",
    "                    while not closed and dj< len(code[i][0]):\n",
    "                        if name[4] in code[di][0][dj]:\n",
    "                            if \"close(\" in code[di][dj]:\n",
    "                                closed = True; lastSeen = di\n",
    "                            else:\n",
    "                                lastSeen = di\n",
    "                        dj+=1\n",
    "                    di+=1\n",
    "                if not lastSeen == di:\n",
    "                    for a in range(i,lastSeen):\n",
    "                        for b in range(0,len(code[a][0])):\n",
    "                            code[i][0].append(code[i+1][0][0])\n",
    "                            del code[i+1][0][0]"
   ]
  },
  {
   "cell_type": "markdown",
   "metadata": {},
   "source": [
    "remove code cells with no substantial code & merge cells if start indented<br />\n",
    "if there is no running code in the notebook, a value error will be raised"
   ]
  },
  {
   "cell_type": "code",
   "execution_count": 11,
   "metadata": {
    "collapsed": true
   },
   "outputs": [],
   "source": [
    "dif = 0; i = 0\n",
    "while i < len(code):\n",
    "    if len(code[i][0]) == 0:            \n",
    "        dif = dif +1\n",
    "        del arr[code[i][1] - dif]; del code[i]\n",
    "    elif code[i][0][0][0][:4] == \"    \":\n",
    "        for j in range(0,len(code[i][0])):\n",
    "            code[i-1][0].append(code[i][0][j])\n",
    "        dif = dif +1\n",
    "        del arr[code[i][1]-dif]; del code[i]\n",
    "    else:\n",
    "        code[i][1]= code[i][1]-dif\n",
    "        i= i+1\n",
    "if len(code) == 0:\n",
    "    raise ValueError(\"There is no running code in ths notebook!\")"
   ]
  },
  {
   "cell_type": "markdown",
   "metadata": {},
   "source": [
    "get list of input data or output data needed for each component<br />\n",
    "if an input data is opened across cells, the cells are merged<br />\n",
    "cells will be merged until the file is closed, the variable name for the input data is no longer mentioned or until the end of the noteboo<br />\n",
    "puts data into form eg\"I.1.data.txt\"<br />\n",
    "also puts \"sys.argv[]\" in code"
   ]
  },
  {
   "cell_type": "code",
   "execution_count": 12,
   "metadata": {},
   "outputs": [
    {
     "name": "stdout",
     "output_type": "stream",
     "text": [
      "with open(mode = sys.agrv[]1,file = sys.agrv[]2) as d:\n",
      "    with open (sys.agrv[]3,sys.agrv[]4) as da:\n",
      "with open(sys.agrv[]5,sys.agrv[]6) as w:\n",
      "with open(sys.argv[],\"w\",-1) as w:\n"
     ]
    }
   ],
   "source": [
    "def buffering(st):\n",
    "    t = st[st.index(\"(\")+1:st.rfind(\")\")]\n",
    "    a = t.split(\",\");i = 0\n",
    "    while i < len(a):\n",
    "        if not \"sys.agrv[\" in a[i]:\n",
    "            return a[i]\n",
    "        i+=1\n",
    "    return -1\n",
    "def addZeros(num):\n",
    "    st = str(num)\n",
    "    while len(st) < 5:\n",
    "        st = \"0\"+st\n",
    "    return st\n",
    "input = []; output = [];avoidVar = []\n",
    "for i in range(0,len(code)):\n",
    "    input.append([]); avoidVar.append([])\n",
    "    output.append([])\n",
    "    for j in range (0,len(code[i][0])):\n",
    "        if isOpeningFile(code[i][0][j][0])and \"sys.agrv[]\" in code[i][0][j][0]:\n",
    "            line = code[i][0][j][0]\n",
    "            avoidVar[i].append(line[line.find(\"sys.agrv[]\")+line[line.find(\"sys.agrv[]\"):].find(\"as \")+3:line.rfind(\":\")])\n",
    "            name = getFileName(code[i][0][j][0])\n",
    "            indexOfName = int(name[0][10:])\n",
    "            mode = files[int(getMode(code[i][0][j][0],name[0])[10:])-1]\n",
    "            if 'r' in mode or '+' in mode:\n",
    "                input[i].append([\"D\"+addZeros(len(input[i])+1)+files[indexOfName-1],files[indexOfName-1]])\n",
    "                code[i][0][j][0] = code[i][0][j][0][:code[i][0][j][0].find(\"(\")+1]+\"sys.argv[\" + str(len(input[i])) + \"]\"+ \\\n",
    "                \",\\\"\"+mode+\"\\\"\"+\",\"+str(buffering(code[i][0][j][0]))+code[i][0][j][0][code[i][0][j][0].rfind(\")\"):]\n",
    "            else:\n",
    "                code[i][0][j][0] = code[i][0][j][0][:code[i][0][j][0].find(\"(\")+1]+\"sys.argv[],\\\"\"+mode+\"\\\",\"+str(buffering(code[i][0][j][0]))+code[i][0][j][0][code[i][0][j][0].rfind(\")\"):]   \n",
    "                print(code[i][0][j][0])\n",
    "                output[i].append([\"O\"+addZeros(len(output[i])+1)+files[indexOfName-1],[j,name[1]+9]])\n",
    "            if \"+\" in mode:\n",
    "                code[i][0].append([\"with open(sys.argv[\"+str(len(input[i]))+\"],'r') as r1928gbdh:\",\"\"])\n",
    "                output[i].append([\"O\"+addZeros(len(output[i])+1)+files[indexOfName-1],[len(code[i][0]),23]])\n",
    "                code[i][0].append([\"    with open(sys.argv[],'w') as w29384ia9ehv:\",\"\"])\n",
    "                code[i][0].append([\"        w29384ia9ehv.write(r1928gbdh.read())\",\"\"])\n",
    "                avoidVar[i].append(\"w29384ia9ehv\");avoidVar[i].append(\"r1928gbdh\")\n"
   ]
  },
  {
   "cell_type": "markdown",
   "metadata": {},
   "source": [
    "Make the documentation of first code cell (all markdown combined)<br />format = cell number\\nsource"
   ]
  },
  {
   "cell_type": "code",
   "execution_count": 13,
   "metadata": {
    "collapsed": true
   },
   "outputs": [],
   "source": [
    "doc = \"\"\n",
    "for i in range(0,len(arr)):\n",
    "    if arr[i][1]== 'markdown':\n",
    "        doc = doc + str(i+1) + \"\\n\" + arr[i][0] +\"\\n\"\n",
    "if not doc == \"\":\n",
    "    doc = doc[:len(doc)-1]"
   ]
  },
  {
   "cell_type": "markdown",
   "metadata": {},
   "source": [
    "find all variables used in each cell (cannot have same name as an imported libarary or the excluded below)<br />and split into passed on variables and newly created variables<br />also cannot be a variable that a for loop is using"
   ]
  },
  {
   "cell_type": "code",
   "execution_count": 14,
   "metadata": {},
   "outputs": [
    {
     "name": "stdout",
     "output_type": "stream",
     "text": [
      " = np.array(sup) \n",
      " = np.array(sup2) \n"
     ]
    }
   ],
   "source": [
    "excluded = [\"if\",\"try\",\"for\",\"while\",\"with\",\"def\",\"as\",\"else\",\"elif\",\"and\",\"not\",\"del\",\"True\", \"False\",\"in\",\"return\",\"assert\"\\\n",
    "           ,\"break\",\"class\",\"continue\",\"except\",\"exec\",\"finally\",\"from\",\"global\",\"import\",\"is\",\"lambda\",\"or\",\"pass\",\"print\",\\\n",
    "           \"raise\",\"yield\"]\n",
    "def checkForVariable(i,j,k,s):\n",
    "    if s[k].isalpha():\n",
    "        for x in range(k,len(s)):\n",
    "            if not s[x].isalpha() and not isNumber(s[x]):\n",
    "                try:\n",
    "                    if not s[x] ==\"(\" and not s[x:x+2] ==\" (\":\n",
    "                        if not (s[x]==\"=\"or s[x:x+2]==\" =\") or s.find(\"(\")==-1 or\\\n",
    "                            s.find(\"(\") >k or s[:k].count(\"(\") ==s[:k].count(\")\"):\n",
    "                                if not s[:k-1].replace(\" \",\"\") == \"for\":\n",
    "                                    return [True,s[k:x].replace(\" \",\"\"),[j,k],x+1]\n",
    "                                else:\n",
    "                                    allVar[i].append(s[k:x].replace(\" \",\"\"))\n",
    "                                    return [False,True,s[k:x].replace(\" \",\"\"),x+1,s[:k-4]+\"    \"]\n",
    "                    return [False,False,0,k+1]\n",
    "                except ValueError:\n",
    "                    return [True,s[k:].replace(\" \",\"\"),[j,k],x+1]\n",
    "        return [True,s[k:].replace(\" \",\"\"),[j,k],x+1]\n",
    "    return [False,False,0,k+1]\n",
    "def isNumber(char):\n",
    "    try:\n",
    "        int(char)\n",
    "        return True\n",
    "    except ValueError:\n",
    "        return False\n",
    "def findAllVariables(num):\n",
    "    array = [];allVar.append([])\n",
    "    for j in range(0,len(code[num][0])):\n",
    "        a = code[num][0][j][0].split('\"')\n",
    "        st = \"\"\n",
    "        for amt in range(0,len(a)):\n",
    "            if amt%2 == 0:\n",
    "                st = st+ a[amt]\n",
    "            else:\n",
    "                for q in range(0,len(a[amt])):\n",
    "                    st +=\" \"\n",
    "        index = 0\n",
    "        while index < len(st):\n",
    "            char = st[index-1]\n",
    "            if index ==0 or char==\" \"or char==\"=\"or char==\"(\" or char ==\",\" or char == \"[\"or char == \";\":\n",
    "                total = checkForVariable(num,j,index,st)\n",
    "                if total[0]:\n",
    "                    notInclude = False\n",
    "                    for q in range(0,len(input[num])):\n",
    "                        if input[num][q][1]== total[1]:\n",
    "                            notInclude = True\n",
    "                    for q in range(0,len(output[num])):\n",
    "                        if output[num][q][1] == total[1]:\n",
    "                            notInclude = True\n",
    "                    if not total[1] in array and not total[1]in avoidVar[num] and not notInclude:\n",
    "                        if not total[1] in excluded and not total[1] in banned[num]:\n",
    "                            if not total[1] in b:\n",
    "                                array.append(total[1])#total[1] is the name of the. variable\n",
    "                                array.append(total[2])#total[2] is the index of the variable\n",
    "                            else:\n",
    "                                while index < len(st) and not (st[index]==\"(\" or\\\n",
    "                                    st[index]==\"=\" or st[index]==\"[\" or st[index]==\":\" or st[index] == \" \"):\n",
    "                                    index +=1\n",
    "                                index -=1\n",
    "                elif total[1]:\n",
    "                    banned[num].append(total[2])\n",
    "                    banned[num].append(total[4])\n",
    "                index +=1\n",
    "                index = total[3]\n",
    "            else:\n",
    "                index +=1\n",
    "    return array\n",
    "banned = [[]];allVar = []\n",
    "newVariables = [findAllVariables(0)]\n",
    "passedOnVariables = [[]]\n",
    "for i in range(1,len(code)):\n",
    "    banned.append([])\n",
    "    variables=findAllVariables(i)\n",
    "    newVariables.append([]);passedOnVariables.append([])\n",
    "    for m in range(0,int(len(variables)/2)):\n",
    "        a = 0; indentFound = False\n",
    "        line = code[i][0][variables[2*m+1][0]][0]\n",
    "        while a < len(line) and not indentFound:\n",
    "            if line[a] == \" \":\n",
    "                a = a+1\n",
    "            else: indentFound = True\n",
    "        if variables[2*m+1][1] == a and \"=\" in line and line.find(\"=\")< (len(variables[2*m])+variables[2*m+1][1]+2):\n",
    "            lineAfterVar =  line[line.find(\"=\"):]+\" \"\n",
    "            inString = False;passed = False\n",
    "            while not passed and variables[2*m]in lineAfterVar:\n",
    "                if not lineAfterVar[:1] == \" \":\n",
    "                    lineAfterVar = \" \"+ lineAfterVar\n",
    "                if not lineAfterVar[lineAfterVar.find(variables[2*m])-1].isalpha() and not\\\n",
    "                isNumber(lineAfterVar[lineAfterVar.find(variables[2*m])-1])and not\\\n",
    "                isNumber(lineAfterVar[lineAfterVar.find(variables[2*m])+len(variables[2*m])+1]) and not\\\n",
    "                lineAfterVar[lineAfterVar.find(variables[2*m])+len(variables[2*m])+1].isalpha():\n",
    "                    print(lineAfterVar)\n",
    "                    passedOnVariables[i].append(variables[2*m])\n",
    "                    passedOnVariables[i].append(variables[2*m+1])\n",
    "                    lineAfterVar =\" \"\n",
    "                    passed = True\n",
    "                lineAfterVar = lineAfterVar[lineAfterVar.find(variables[2*m])+1:]\n",
    "            if not passed:\n",
    "                newVariables[i].append(variables[2*m])\n",
    "                newVariables[i].append(variables[2*m+1])\n",
    "        else:\n",
    "            passedOnVariables[i].append(variables[2*m])\n",
    "            passedOnVariables[i].append(variables[2*m+1])"
   ]
  },
  {
   "cell_type": "markdown",
   "metadata": {},
   "source": [
    "split newly created variables into created internally or to be set by the user --> the set methods are methods that can be used in the process of creating the variable and still be set by the user"
   ]
  },
  {
   "cell_type": "code",
   "execution_count": 15,
   "metadata": {},
   "outputs": [
    {
     "data": {
      "text/plain": [
       "[[],\n",
       " ['temp', [3, 23]],\n",
       " ['percent', [0, 6]],\n",
       " [],\n",
       " ['plotSecond', [0, 3], 'temp2', [4, 27]],\n",
       " ['plotSecond', [0, 3], 'percent2', [1, 10]],\n",
       " ['sup', [1, 16]],\n",
       " ['sup', [1, 0], 'plotSecond', [4, 3], 'sup2', [5, 4]]]"
      ]
     },
     "execution_count": 15,
     "metadata": {},
     "output_type": "execute_result"
    }
   ],
   "source": [
    "passedOnVariables"
   ]
  },
  {
   "cell_type": "code",
   "execution_count": null,
   "metadata": {
    "collapsed": true
   },
   "outputs": [],
   "source": []
  },
  {
   "cell_type": "code",
   "execution_count": 16,
   "metadata": {},
   "outputs": [
    {
     "name": "stdout",
     "output_type": "stream",
     "text": [
      "temp=[]\n",
      "s=\"\"\n",
      "ga=sys.arg[]2!\n",
      "m=s.split(\"\")\n",
      "percent=[]\n",
      "sup=percent\n",
      "sup\n",
      "plotSecond=True\n",
      "temp2=[]\n",
      "s2=\"\"\n",
      "m2=s2.split(\"\")\n",
      "percent2=[]\n",
      "sup2=percent2\n",
      "sup2\n"
     ]
    }
   ],
   "source": [
    "for i in range(0,len(code)):\n",
    "    for j in range(0,int(len(newVariables[i])/2)):\n",
    "        allVar[i].append(newVariables[i][j*2])\n",
    "    for j in range(0,int(len(passedOnVariables[i])/2)):\n",
    "        allVar[i].append(passedOnVariables[i][j*2])\n",
    "setMethods = [\"date\"]\n",
    "for i in range(0,len(code)):\n",
    "    var = 0\n",
    "    while var*2+1 < len(newVariables[i]):\n",
    "        deleted = False\n",
    "        line = code[i][0][newVariables[i][var*2+1][0]][0].replace(\" \",\"\")\n",
    "        print(line)\n",
    "        if \"\\\"\\\"\" in line:\n",
    "            deleted = True\n",
    "            del newVariables[i][var*2]\n",
    "            del newVariables[i][var*2]\n",
    "        while '\"' in line:\n",
    "            line2 = line[:line.find('\"')]\n",
    "            line = line[line.find('\"')+1:]; line = line[line.find('\"')+1:]; line = line2 + line\n",
    "        line = line + \" \"\n",
    "        if \"+\" in line:\n",
    "            deleted = True\n",
    "            del newVariables[i][var*2]\n",
    "            del newVariables[i][var*2]\n",
    "        k = line.find(\"=\")+1\n",
    "        if line[k].isalpha() and (line[-2].isalpha()or isNumber(line[-2])):\n",
    "            if not line[k:-1] == 'True' and not line[k:-1] == 'False':\n",
    "                deleted = True\n",
    "                print(newVariables[i][var*2])\n",
    "                del newVariables[i][var*2]\n",
    "                del newVariables[i][var*2]\n",
    "        while k < len(line) and not deleted:\n",
    "            if line[k].isalpha():\n",
    "                n = k+1\n",
    "                while line[n].isalpha():\n",
    "                    n = n+1\n",
    "                \n",
    "                word = line[k:n]\n",
    "                if word in allVar or word in banned[i]:\n",
    "                    deleted = True\n",
    "                    del newVariables[i][var*2]\n",
    "                    del newVariables[i][var*2]\n",
    "                else:\n",
    "                    k = n+1\n",
    "            else:\n",
    "                k = k+1\n",
    "        while '(' in line and not deleted:\n",
    "            if line[line.find('(')-1].isalpha():\n",
    "                n = line.find('(')-2\n",
    "                while line[n].isalpha():\n",
    "                    n = n-1\n",
    "                fullString = line[n+1:line.find('(')]\n",
    "                if not fullString in setMethods:\n",
    "                    line =\"(\"\n",
    "                    del newVariables[i][var*2]\n",
    "                    del newVariables[i][var*2]\n",
    "                    deleted = True\n",
    "            line = line[:line.find(\"(\")]+line[line.find(\"(\")+1:]\n",
    "        if not deleted:\n",
    "            var = var+1"
   ]
  },
  {
   "cell_type": "code",
   "execution_count": 17,
   "metadata": {},
   "outputs": [
    {
     "data": {
      "text/plain": [
       "[['temp', [0, 0], 'ga', [2, 0]],\n",
       " ['percent', [0, 0]],\n",
       " [],\n",
       " ['plotSecond', [0, 0], 'temp2', [2, 4]],\n",
       " ['percent2', [1, 4]],\n",
       " [],\n",
       " [],\n",
       " []]"
      ]
     },
     "execution_count": 17,
     "metadata": {},
     "output_type": "execute_result"
    }
   ],
   "source": [
    "newVariables"
   ]
  },
  {
   "cell_type": "markdown",
   "metadata": {},
   "source": [
    "Divide newly created variables(to be passed in by the user) to parameter or standard input"
   ]
  },
  {
   "cell_type": "code",
   "execution_count": 18,
   "metadata": {
    "collapsed": true
   },
   "outputs": [],
   "source": [
    "parameters = []\n",
    "stdIn = []\n",
    "for i in range(0,len(code)):\n",
    "    parameters.append([]);stdIn.append([])\n",
    "    var = 0\n",
    "    while var*2+1 < len(newVariables[i]):\n",
    "        line = code[i][0][newVariables[i][var*2+1][0]][0].replace(\" \",\"\")\n",
    "        line = line[line.find(\"=\")+1:]\n",
    "        if line[0]=='\"' or line[:9]==\"sys.arg[]\":\n",
    "            if line[0] == '\"':\n",
    "                parameters[i].append([newVariables[i][2*var],newVariables[i][2*var+1],\"str\",line[1:line.rfind('\"')]])\n",
    "            else:\n",
    "                parameters[i].append([newVariables[i][2*var],newVariables[i][2*var+1],\"str\",\\\n",
    "                                      \"\\\"\"+strings[int(line[line.find(\"sys.arg[]\")+9:-1])-1]+\"\\\"\"])\n",
    "        elif isNumber(line[0]):\n",
    "            if \".\" in line:\n",
    "                parameters[i].append([newVariables[i][2*var],newVariables[i][2*var+1],\"float\",line])\n",
    "            else:\n",
    "                parameters[i].append([newVariables[i][2*var],newVariables[i][2*var+1],\"int\",line])\n",
    "        elif line == \"True\" or line == \"False\":\n",
    "            parameters[i].append([newVariables[i][2*var],newVariables[i][2*var+1],\"bool\",line])\n",
    "        elif line[:5] == \"date(\":\n",
    "            parameters[i].append([newVariables[i][2*var],newVariables[i][2*var+1],\"date\",line])\n",
    "        else:\n",
    "            fName = 0\n",
    "            while os.path.isfile(\"./\"+newVariables[i][2*var]+str(fName)):\n",
    "                fName+=1\n",
    "            with open(newVariables[i][2*var]+str(fName),\"w\") as write:\n",
    "                write.write(line)\n",
    "            stdIn[i].append([newVariables[i][2*var],newVariables[i][2*var+1],newVariables[i][2*var]+str(fName)])\n",
    "        var = var+1"
   ]
  },
  {
   "cell_type": "markdown",
   "metadata": {},
   "source": [
    "add parameters and standard inputs and intermidiates to the array inputs and change the line of code with the variable accordingly"
   ]
  },
  {
   "cell_type": "code",
   "execution_count": 19,
   "metadata": {
    "collapsed": true
   },
   "outputs": [],
   "source": [
    "def addZeros(num):\n",
    "    st = str(num)\n",
    "    while len(st) < 5:\n",
    "        st = \"0\"+st\n",
    "    return st\n",
    "toBeInserted = [];toInsert=[]\n",
    "for i in range(0,len(code)):\n",
    "    toBeInserted.append([]); toInsert.append([])\n",
    "    for j in range(0,len(stdIn[i])):\n",
    "        input[i].append(['I'+addZeros(len(input[i])+1)+stdIn[i][j][0],stdIn[i][j][2]])\n",
    "        lineNum = stdIn[i][j][1][0]\n",
    "        line = code[i][0][lineNum][0]\n",
    "        numSpaces = line[:stdIn[i][j][1][1]]\n",
    "        toBeInserted[i].append([lineNum,numSpaces + \"with open(sys.argv[\"+str(len(input[i]))+\"],\\\"r\\\") as r3920n5:\"])\n",
    "        code[i][0][lineNum][0]=numSpaces+\"    \"+stdIn[i][j][0]+\" = eval(r3920n5.read())\"\n",
    "    for j in range(0,len(parameters[i])):#to class\n",
    "        input[i].append(['P'+addZeros(len(input[i])+1)+parameters[i][j][0],parameters[i][j][2],parameters[i][j][3]])\n",
    "        lineNum = parameters[i][j][1][0]\n",
    "        line = code[i][0][lineNum][0]\n",
    "        if not parameters[i][j][2] == 'bool':\n",
    "            code[i][0][lineNum][0]=line[:parameters[i][j][1][1]]+parameters[i][j][0]+\" =\"+parameters[i][j][2]+\"(sys.argv[\"+str(len(input[i]))+\"])\"\n",
    "        else:\n",
    "            code[i][0][lineNum][0]=line[:parameters[i][j][1][1]]+parameters[i][j][0]+\" =sys.argv[\"+str(len(input[i]))+\"]=='true'\"\n",
    "    for j in range(0,int(len(passedOnVariables[i])/2)):#to class\n",
    "        foundVar = False; index = i-1\n",
    "        while not foundVar:\n",
    "            if passedOnVariables[i][j*2] in allVar[index]:\n",
    "                foundVar = True\n",
    "            else:\n",
    "                index -=1\n",
    "        if index >-1:\n",
    "            code[index][0].append([\"with open(sys.argv[],\\\"w\\\") as w392075:\",\"\"])\n",
    "            code[index][0].append([\"    try:\",\"\"])\n",
    "            code[index][0].append([\"        w392075.write(str(type(\"+passedOnVariables[i][j*2]+\"))+'\\\\n')\",\"\"])\n",
    "            code[index][0].append([\"        w392075.write(str(\"+passedOnVariables[i][j*2]+\"))\",\"\"])\n",
    "            code[index][0].append([\"    except: pass\",\"\"])\n",
    "            outputVariable = \"O\"+addZeros(len(output[index])+1)+passedOnVariables[i][j*2]\n",
    "            output[index].append([outputVariable,[len(code[index][0])-5,19]])\n",
    "            input[i].append(['V'+addZeros(len(input[i])+1)+passedOnVariables[i][j*2],index,outputVariable])\n",
    "            p = passedOnVariables[i][2*j]\n",
    "            toInsert[i].append(\"    arr = r.read()\\n    if arr[7:10]== 'int':\\n        \"+p+\" = int(arr[arr.find('>')+1:])\\n    elif arr[7:10] == 'str':\\n\\\n",
    "        \"+p+\" = arr[arr.find('>')+1:]\\n    elif arr[7:11] == 'bool':\\n        if arr.replace(' ','')[-4:] == 'True':\\n            \"+p+\" = True\\n        else:\\n            \\\n",
    "\"+p+\" = False\\n    elif arr[7:12] == 'float':\\n        \"+p+\" = float(arr[arr.find('>')+1:])\\n    else:\\n        \"+p+\" = eval(arr[arr.find('>')+1:])\")\n",
    "            toInsert[i].append(\"with open(sys.argv[\"+str(len(input[i]))+\"],\\\"r\\\") as r:\")\n",
    "        #if all var in get from \n",
    "    toBeInserted[i].sort(key = lambda inserted: inserted[0])\n",
    "    for j in range(0,len(toBeInserted[i])):\n",
    "        code[i][0].insert(toBeInserted[i][j][0]+j,[toBeInserted[i][j][1],\"\"])\n",
    "        for g in range(0,len(output[i])):\n",
    "            if output[i][g][1][0] >=toBeInserted[i][j][0]+j:\n",
    "                output[i][g][1][0]+=1\n",
    "    for j in range(0,len(toInsert[i])):\n",
    "        code[i][0].insert(0,[toInsert[i][j],\"\"])\n",
    "        for g in range(0,len(output[i])):\n",
    "                output[i][g][1][0]+=1"
   ]
  },
  {
   "cell_type": "code",
   "execution_count": 20,
   "metadata": {},
   "outputs": [
    {
     "data": {
      "text/plain": [
       "[['line', 'i', 'temp', 's', 'ga', 'm'],\n",
       " ['i', 'num', 'percent', 'temp'],\n",
       " ['i', 'j', 'sup', 'percent'],\n",
       " ['line', 'i', 'plotSecond', 'temp2', 's2', 'm2'],\n",
       " ['i', 'num', 'percent2', 'plotSecond', 'temp2'],\n",
       " ['i', 'j', 'sup2', 'plotSecond', 'percent2'],\n",
       " ['sup'],\n",
       " ['sup', 'plotSecond', 'sup2']]"
      ]
     },
     "execution_count": 20,
     "metadata": {},
     "output_type": "execute_result"
    }
   ],
   "source": [
    "allVar"
   ]
  },
  {
   "cell_type": "markdown",
   "metadata": {},
   "source": [
    "insert method in code cell if used in that particular code cell"
   ]
  },
  {
   "cell_type": "code",
   "execution_count": 21,
   "metadata": {
    "collapsed": true,
    "scrolled": false
   },
   "outputs": [],
   "source": [
    "def inCode(methName,lineCode):\n",
    "    lineCode.replace('\"',\"'\")\n",
    "    while methName in lineCode:\n",
    "        pre = ord(lineCode[lineCode.find(methName)-1])\n",
    "        post = ord(lineCode[lineCode.find(methName)+len(methName)])\n",
    "        if not(pre >64 and pre < 91 or post > 64 and post < 91 or pre <123 and pre >96 or post <123 and post >96):\n",
    "            if lineCode[:lineCode.find(methName)].count(\"'\")%2 == 0:\n",
    "                return True\n",
    "        lineCode = lineCode[:lineCode.find(methName)] + lineCode[lineCode.find(methName)+len(methName)+1:]\n",
    "    return False          \n",
    "for i in range (0,len(code)):\n",
    "    for m in range (0,len(methods)):\n",
    "        l=0\n",
    "        while l <len(code[i][0]):\n",
    "            if inCode(methods[m][0],code[i][0][l][0]):\n",
    "                t = methods[m][1][0].split(\"\\n\")\n",
    "                for g in range(0,len(output[i])):\n",
    "                    output[i][g][1][0]+=len(t)\n",
    "                t2 = methods[m][1][1].split(\"\\n\")\n",
    "                for a in range(0,len(t)):\n",
    "                    code[i][0].insert(0,[t[len(t)-a-1],t2[len(t)-a-1]])\n",
    "                l = len(code[i][0])+1\n",
    "            else:\n",
    "                l= l+1"
   ]
  },
  {
   "cell_type": "markdown",
   "metadata": {},
   "source": [
    "if a save fig, save it.if a figure and no save fig in cell, save last"
   ]
  },
  {
   "cell_type": "code",
   "execution_count": 22,
   "metadata": {},
   "outputs": [
    {
     "data": {
      "text/plain": [
       "[[['O00001d', [11, 23]], ['O00002temp', [13, 19]]],\n",
       " [['O00001percent', [13, 19]]],\n",
       " [['O00001sup', [9, 19]]],\n",
       " [['O00001plotSecond', [14, 19]], ['O00002temp2', [19, 19]]],\n",
       " [['O00001plotSecond', [16, 19]], ['O00002percent2', [21, 19]]],\n",
       " [['O00001plotSecond', [12, 19]], ['O00002sup2', [17, 19]]],\n",
       " [['O00001sup', [2, 19]], ['O00002sup', [4, 19]]],\n",
       " [['O00003graph', [18, 20]]]]"
      ]
     },
     "execution_count": 22,
     "metadata": {},
     "output_type": "execute_result"
    }
   ],
   "source": [
    "for i in range(0,len(code)):\n",
    "    figSaved = False; hasFig = False\n",
    "    for j in range(0,len(code[i][0])):\n",
    "        st = \" \"+code[i][0][j][0].replace(\" \",\"\")\n",
    "        if \"figure(\" in st and not st[st.find(\"figure(\")-1].isalpha() and not isNumber(st[st.find(\"figure(\")-1]):\n",
    "            hasFig = True\n",
    "        elif \"savefig(\" in st and not st[st.find(\"savefig(\")-1].isalpha() and not isNumber(st[st.find(\"savefig(\")-1]) and not \"savefig()\" in st:\n",
    "            hasFig = True; figSaved = True\n",
    "            line = code[i][0][j][0]\n",
    "            if \",\" in line[line.find(\"savefig(\"):]:\n",
    "                oV=\"O\"+addZeros(len(output[index])+1)+strings[int(line[line.find(\"savefig(\")+17:line.find(\"savefig(\")+\\\n",
    "                                                                         line[line.find(\"savefig(\"):].find(\",\")-1])-1]\n",
    "                code[i][0][j][0]=line[:line.find(\"savefig(\")+8]+\"sys.argv[]\"+\\\n",
    "                line[line[line.find(\"savefig(\"):].find(\",\")+line.find(\"savefig(\"):]\n",
    "            else:\n",
    "                oV=\"O\"+addZeros(len(output[index])+1)+strings[int(line[line.find(\"savefig(\")+17:line.find(\"savefig(\")+\\\n",
    "                                                                         line[line.find(\"savefig(\"):].find(\")\")-1])-1]\n",
    "                code[i][0][j][0]=line[:line.find(\"savefig(\")+8]+\"sys.argv[]\"+line[line[line.find(\"savefig(\"):].find(\")\")\\\n",
    "                                                                                  +line.find(\"savefig(\"):]\n",
    "            output[i].append([oV,[j,line.find(\"savefig(\")+17]])\n",
    "        elif \"savefig()\" in st:\n",
    "            hasFig = True; figSaved = True\n",
    "    if hasFig and not figSaved:\n",
    "        code[i][0].append([\"try:savefig(sys.argv[])\",\"\"])\n",
    "        output[i].append([\"O\"+addZeros(len(output[i])+1)+\"figure\",[len(code[i][0]),21]])\n",
    "        code[i][0].append([\"except:pass\",\"\"])\n",
    "output"
   ]
  },
  {
   "cell_type": "markdown",
   "metadata": {},
   "source": [
    "Add other strings that are not new variables"
   ]
  },
  {
   "cell_type": "raw",
   "metadata": {
    "collapsed": true
   },
   "source": [
    "stringNumber = 0; index = 0\n",
    "for i in range(0,len(code)):\n",
    "    for j in range(0,len(code[i][0])):\n",
    "        while \"sys.arg[]\" in code[i][0][j][0][index:]:\n",
    "            line = code[i][0][j][0]\n",
    "            input[i].append([\"Z.ExtraString.\"+addZeros(len(input[i])+1),\"\\\"\"+strings[int(line[line.find(\"sys.arg[]\")+9:\\\n",
    "                            line[line.find(\"sys.arg[]\"):].find(\"!\")+len(line[:line.find(\"sys.arg[]\")])])-1] + \"\\\"\"])\n",
    "            code[i][0][j][0] = line[:line.find(\"sys.arg[]\")]+\"sys.argv[\"+str(len(input[i]))+\"]\"+line[line[line.\\\n",
    "                                find(\"sys.arg[]\"):].find(\"!\")+1+line.find(\"sys.arg[]\"):]\n",
    "            stringNumber+=1"
   ]
  },
  {
   "cell_type": "code",
   "execution_count": 23,
   "metadata": {
    "collapsed": true
   },
   "outputs": [],
   "source": [
    "stringNumber = 0; index = 0\n",
    "for i in range(0,len(code)):\n",
    "    for j in range(0,len(code[i][0])):\n",
    "        while \"sys.arg[]\" in code[i][0][j][0][index:]:\n",
    "            line = code[i][0][j][0]\n",
    "            code[i][0][j][0] = line[:line.find(\"sys.arg[]\")]+'\"'+strings[int( line[line.find(\"sys.arg[]\")+9:line[line.\\\n",
    "                                find(\"sys.arg[]\"):].find(\"!\")+line.find(\"sys.arg[]\")])-1]+'\"'+line[line[line.\\\n",
    "                                find(\"sys.arg[]\"):].find(\"!\")+1+line.find(\"sys.arg[]\"):]\n",
    "            stringNumber+=1"
   ]
  },
  {
   "cell_type": "code",
   "execution_count": null,
   "metadata": {
    "collapsed": true
   },
   "outputs": [],
   "source": []
  },
  {
   "cell_type": "markdown",
   "metadata": {},
   "source": [
    "add in the number inarray for sys.argv for outputs"
   ]
  },
  {
   "cell_type": "code",
   "execution_count": 24,
   "metadata": {
    "collapsed": true
   },
   "outputs": [],
   "source": [
    "for i in range(0,len(code)):\n",
    "    for j in range(0,len(output[i])):\n",
    "        lineToChange = code[i][0][output[i][j][1][0]][0]\n",
    "        code[i][0][output[i][j][1][0]][0]=lineToChange[:output[i][j][1][1]]+str(len(input[i])+j+1)+\\\n",
    "        lineToChange[output[i][j][1][1]:]"
   ]
  },
  {
   "cell_type": "markdown",
   "metadata": {},
   "source": [
    "Something becomes an output if it is printed"
   ]
  },
  {
   "cell_type": "code",
   "execution_count": 25,
   "metadata": {
    "collapsed": true
   },
   "outputs": [],
   "source": [
    "def printing(st,i):\n",
    "    st = st.replace('\"',\"'\")\n",
    "    if st.find(\"print(\")>-1 and (st.find(\"'\")==-1 or st.find(\"'\")>st.find(\"print(\")):\n",
    "        return True\n",
    "        \n",
    "for i in range (0,len(code)):\n",
    "    j = 0\n",
    "    while j < len(code[i][0]):\n",
    "        if printing(code[i][0][j][0],i):\n",
    "            code[i][0].insert(0,[\"sys.stdout = open(sys.argv[\"+str(len(output)+1+len(input))+\"], 'w')\",\"\"])\n",
    "            code[i][0].append([\"sys.stdout.close()\",\"\"])\n",
    "            output[i].append([\"O\"+addZeros(len(output[i])+1)+\"stdOut\",[i,j]])\n",
    "            j = len(code[i][0])\n",
    "        else: j+=1"
   ]
  },
  {
   "cell_type": "code",
   "execution_count": null,
   "metadata": {
    "collapsed": true
   },
   "outputs": [],
   "source": []
  },
  {
   "cell_type": "markdown",
   "metadata": {},
   "source": [
    "change method strings to normal"
   ]
  },
  {
   "cell_type": "markdown",
   "metadata": {},
   "source": [
    "for i in range (0,len(methods)):\n",
    "    index = 0\n",
    "    while \"sys.arg[]\" in methods[i][1][0][index:]:\n",
    "        ind = methods[i][1][0][index:].find(\"sys.arg[]\")+9\n",
    "        if \"!\" in methods[i][1][0][ind:]:\n",
    "            if isNumber(methods[i][1][0][ind:ind+methods[i][1][0][ind:].find(\"!\")]):\n",
    "                whichString = int(methods[i][1][0][ind:ind+methods[i][1][0][ind:].find(\"!\")])-1\n",
    "                if whichString < len(strings):\n",
    "                    methods[i][1][0]=methods[i][1][0][:ind-9]+'\"'+strings[whichString]+'\"'+\\\n",
    "                    methods[i][1][0][ind+methods[i][1][0][ind:].find(\"!\")+1:]\n",
    "                else: index = methods[i][1][0].find(\"sys.arg[]\")+9\n",
    "            else: index = methods[i][1][0].find(\"sys.arg[]\")+9\n",
    "        else: index = methods[i][1][0].find(\"sys.arg[]\")+9"
   ]
  },
  {
   "cell_type": "markdown",
   "metadata": {},
   "source": [
    "Place back into a new notebook   http://nbconvert.readthedocs.io/en/latest/execute_api.html <br />also combine each code cell into one big string"
   ]
  },
  {
   "cell_type": "code",
   "execution_count": 26,
   "metadata": {
    "collapsed": true
   },
   "outputs": [],
   "source": [
    "c = [new_markdown_cell(doc)]\n",
    "for i in range (0,len(code)):\n",
    "    code[i].append(imports)\n",
    "    for j in range(0,len(code[i][0])):\n",
    "        code[i][2]+=code[i][0][j][0]+code[i][0][j][1]+\"\\n\"\n",
    "    code[i][2]=code[i][2][:len(code[i][2])-1]\n",
    "    c.append(new_code_cell(code[i][2]))\n",
    "nb = nbf.v4.new_notebook()\n",
    "nb['cells'] = c\n",
    "with open(\"test.ipynb\",'w') as w:\n",
    "    nbf.write(nb,w)"
   ]
  },
  {
   "cell_type": "code",
   "execution_count": 27,
   "metadata": {
    "collapsed": true
   },
   "outputs": [],
   "source": [
    "param = []; runFiles = []\n",
    "for i in range(0,len(code)):\n",
    "    param.append([]); j = 0\n",
    "    while j < len(input[i]):\n",
    "        if input[i][j][0][0]==\"P\" or input[i][j][0][0]==\"Z\":\n",
    "            param[i].append(input[i][j])\n",
    "            del input[i][j]\n",
    "        else: j +=1\n",
    "    run = '#!/bin/bash\\n\\ncheckExitCode() {\\n if [ $? -ne 0 ]; then \\n     echo \"Error\"\\n     exit 1; \\n fi\\n}\\n\\nBASEDIR=`dirname $0`\\n. $BASEDIR/io.sh '\n",
    "    run += str(len(input[i]))+\" \"+str(len(param[i]))+\" \"+str(len(output[i]))+' \"$@\"\\n\\n'\n",
    "    for j in range(0,len(input[i])):\n",
    "        run +='echo \"Input'+str(j+1)+': $INPUTS'+str(j+1)+'\"\\n'\n",
    "    for j in range(0,len(param[i])):\n",
    "        run +='echo \"Param'+str(j+1)+': $PARAMS'+str(j+1)+'\"\\n'\n",
    "    for j in range(0,len(output[i])):\n",
    "        del output[i][j][1]\n",
    "        run +='echo \"Output'+str(j+1)+': $OUTPUTS'+str(j+1)+'\"\\n'\n",
    "    run += '\\n\\n$BASEDIR/Component'+str(i+1)+'.py'\n",
    "    for j in range(0,len(input[i])):\n",
    "        run +=' $INPUTS'+str(j+1)\n",
    "    for j in range(0,len(param[i])):\n",
    "        run +=' $PARAMS'+str(j+1)\n",
    "    for j in range(0,len(output[i])):\n",
    "        run +=' $OUTPUTS'+str(j+1)\n",
    "    run +='\\ncheckExitCode'\n",
    "    runFiles.append(run)\n",
    "with open(\"io.sh\",\"w\") as io:\n",
    "    io.write('#!/bin/bash\\n\\n# -----------------------------------------------\\n# Option Parsing function for:\\n# -i<1..n> [files.. ] -o<1..n> [files.. ]\\n# \\n# **** IMPORTANT ****\\n# - Please pass 2 Arguments to this script\\n#   - Arg1: Number of Input Data expected\\n#   - Arg1: Number of Input Parameters expected\\n#   - Arg2: Number of Output Data expected\\n#\\n# (c) Varun Ratnakar\\n# -----------------------------------------------\\n\\nINUM=$1; shift\\nPNUM=$1; shift\\nONUM=$1; shift\\n\\nset_variables()\\n{\\n    for ((i=1; i<=INUM; i++)); do typeset ICOUNT$i=0; done\\n    for ((i=1; i<=PNUM; i++)); do typeset PCOUNT$i=0; done\\n    for ((i=1; i<=ONUM; i++)); do typeset OCOUNT$i=0; done\\n}\\n\\nIFLAG=();\\nPFLAG=();\\nOFLAG=();\\nreset_flags()\\n{\\n    for ((j=1; j<=INUM; j++)); do IFLAG[$j]=\\'0\\'; done\\n    for ((k=1; k<=PNUM; k++)); do PFLAG[$k]=\\'0\\'; done\\n    for ((l=1; l<=ONUM; l++)); do OFLAG[$l]=\\'0\\'; done\\n}\\n\\nset_variables\\nreset_flags\\n\\nwhile [ $# -gt 0 ]\\ndo\\n    case \"$1\" in\\n        -i*) in=$(echo $1 | cut -di -f2); reset_flags; IFLAG[$in]=\\'1\\';;\\n        -p*) ip=$(echo $1 | cut -dp -f2); reset_flags; PFLAG[$ip]=\\'1\\';;\\n        -o*) op=$(echo $1 | cut -do -f2); reset_flags; OFLAG[$op]=\\'1\\';;\\n        --) shift; break;;\\n        -*)\\n            echo >&2 \\\\\\n            \"usage: $0 -i<1..$INUM> [files.. ] -o<1..$ONUM> [files.. ]\"\\n            exit 1;;\\n        *)  for((ind=1; ind<=INUM; ind++)); do\\n                if [ \"${IFLAG[$ind]}\" = \"1\" ] \\n                then \\n                    x=\"\"\\n                    if [ \"${INPUTS[$ind]}\" != \"\" ]; then x=\"|\"; fi\\n                    INPUTS[$ind]=\"${INPUTS[$ind]}$x$1\"\\n                fi\\n            done\\n            for((ind=1; ind<=PNUM; ind++)); do\\n                if [ \"${PFLAG[$ind]}\" = \"1\" ] \\n                then \\n                    x=\"\"\\n                    if [ \"${PARAMS[$ind]}\" != \"\" ]; then x=\"|\"; fi\\n                    PARAMS[$ind]=\"${PARAMS[$ind]}$x$1\"\\n                fi\\n            done\\n            for((ind=1; ind<=ONUM; ind++)); do\\n                if [ \"${OFLAG[$ind]}\" = \"1\" ] \\n                then \\n                    x=\"\"\\n                    if [ \"${OUTPUTS[$ind]}\" != \"\" ]; then x=\"|\"; fi\\n                    OUTPUTS[$ind]=\"${OUTPUTS[$ind]}$x$1\"\\n                fi\\n            done;;\\n    esac\\n    shift\\ndone\\n\\nIFS=\\'|\\'\\nfor ((i=1; i<=INUM; i++)); do typeset INPUTS$i=$(echo ${INPUTS[$i]}); done\\nfor ((i=1; i<=PNUM; i++)); do typeset PARAMS$i=$(echo ${PARAMS[$i]}); done\\nfor ((i=1; i<=ONUM; i++)); do typeset OUTPUTS$i=$(echo ${OUTPUTS[$i]}); done\\nIFS=\\' \\'')"
   ]
  },
  {
   "cell_type": "code",
   "execution_count": null,
   "metadata": {
    "collapsed": true
   },
   "outputs": [],
   "source": []
  },
  {
   "cell_type": "code",
   "execution_count": 28,
   "metadata": {
    "collapsed": true
   },
   "outputs": [],
   "source": [
    "for i in range(0,len(code)):\n",
    "    for j in range(0,len(input[i])):\n",
    "        k = 0\n",
    "        while k < len(input[i][j][0]):\n",
    "            if not input[i][j][0][k].isalpha() and not isNumber(input[i][j][0][k]) and not input[i][j][0][k] == \".\":\n",
    "                input[i][j][0]=input[i][j][0][:k]+input[i][j][0][k+1:]\n",
    "            else: k +=1"
   ]
  },
  {
   "cell_type": "code",
   "execution_count": 29,
   "metadata": {
    "collapsed": true
   },
   "outputs": [],
   "source": [
    "zipFiles = []\n",
    "for i in range(0,len(code)):\n",
    "    with open ('run','w')as runf:\n",
    "        runf.write(runFiles[i])\n",
    "    with open('Component'+str(i+1)+'.py',\"w\") as codef:\n",
    "        codef.write(code[i][2])\n",
    "    zipf = zipfile.ZipFile('Component'+str(i+1)+'.zip', 'w', zipfile.ZIP_DEFLATED)\n",
    "    zipf.write('io.sh'); zipf.write('run'); zipf.write('Component'+str(i+1)+'.py')\n",
    "    zipf.close()"
   ]
  },
  {
   "cell_type": "code",
   "execution_count": 30,
   "metadata": {
    "collapsed": true
   },
   "outputs": [],
   "source": [
    "with open(\"input\",\"w\") as w:\n",
    "    w.write(str(input))"
   ]
  },
  {
   "cell_type": "code",
   "execution_count": 31,
   "metadata": {
    "collapsed": true
   },
   "outputs": [],
   "source": [
    "with open(\"param\",\"w\") as w:\n",
    "    w.write(str(param))"
   ]
  },
  {
   "cell_type": "code",
   "execution_count": 32,
   "metadata": {
    "collapsed": true
   },
   "outputs": [],
   "source": [
    "out=[]\n",
    "for i in range(0,len(output)):\n",
    "    out.append([])\n",
    "    for j in range(0,len(output[i])):\n",
    "        out[i].append(output[i][j][0])\n",
    "with open(\"output\",\"w\") as w:\n",
    "    w.write(str(out))"
   ]
  },
  {
   "cell_type": "code",
   "execution_count": 33,
   "metadata": {
    "collapsed": true
   },
   "outputs": [],
   "source": [
    "with open(\"documentation.txt\",\"w\") as w:\n",
    "    w.write(doc)\n",
    "with open(\"instructions.txt\",\"w\") as w:\n",
    "    w.write(\"In the array \\\"input\\\", each array within the big array corresponds to each of the components.\\n\\\n",
    "    Each array within the array that corresponds to each compoenent includes each input and its information\\n\\\n",
    "    If the first element starts with D or I (eg 'I.00002.temp'),\\n\\\n",
    "    ['D.00001.d', 'd']\\n\\\n",
    "        The first element of that array is the name of the input and the second element is the filename that should be inputted\\n\\\n",
    "    If the first element starts with V (eg 'V.00002.temp'),\\n\\\n",
    "    ['V.00002.temp', 0, 'O.00002.temp']\\n\\\n",
    "        The first element of that array is the name of the input, the second is which component the variable is coming from, and the third is the name of the output in that component\\n\\\n",
    "In the array from \\\"param\\\", each array within the big array corresponds to each of the components.\\n\\\n",
    "    Each array within the array that corresponds to each compoenent includes each parameter and its information\\n\\\n",
    "    If the first element starts with P (eg 'P.00003.ga')\\n\\\n",
    "    ['P.00003.ga', 'string', '\\\"hias\\\"']\\n\\\n",
    "        The first element of that array is the name of the parameter, the second is the type of parameter, and the third is the suggested parameter value. If it is a string, the suggested value will have quotations around it\\n\\\n",
    "    If the first element starts with Z (eg 'Z.ExtraString.00004')\\n\\\n",
    "    ['Z.ExtraString.00004', '\" \"']\\n\\\n",
    "        The first element of that array is the name of the parameter and the second is the suggested parameter value. This is a string parameter and therefore the suggested value will have quotations around it\\n\\\n",
    "In the array from \\\"output\\\", each array within the big array corresponds to each of the components.\\n\\\n",
    "    Each array within that array includes each output name\\n\\\n",
    "    ['O.00001.d', 'O.00002.temp']\\n\\\n",
    "The each zipfile corresponds to each component.\\n\\\n",
    "The name of the file will be the name of the component (minus the zip)\\n\\\n",
    "The zipfile includes the code to be uploaded. The inputs, param, and output files tell the variables needed for each component\\n\\n\\\n",
    "All other files are data and can be uploaded under File type\")"
   ]
  },
  {
   "cell_type": "code",
   "execution_count": 34,
   "metadata": {},
   "outputs": [
    {
     "data": {
      "text/plain": [
       "[[['P00003ga', 'str', '\"hias\"']],\n",
       " [],\n",
       " [],\n",
       " [['P00003plotSecond', 'bool', 'True']],\n",
       " [],\n",
       " [],\n",
       " [],\n",
       " []]"
      ]
     },
     "execution_count": 34,
     "metadata": {},
     "output_type": "execute_result"
    }
   ],
   "source": [
    "param"
   ]
  },
  {
   "cell_type": "markdown",
   "metadata": {
    "collapsed": true
   },
   "source": [
    "sys.argv= [\"intro\"\"percent20\",\"O00001plotSecond1-ck77l0trinq6qvr2ejbqduzow (5)\",\"V00003temp2-di9xgmn6dhmejwuatoy1zduyk (3)\",\"a\",\"b\"]\n",
    "#!/usr/bin/env python\n",
    "import matplotlib\n",
    "matplotlib.use(\"Agg\")\n",
    "import sys\n",
    "import numpy as np\n",
    "import matplotlib.pyplot as pt\n",
    "def analyze(arr,age,gen,incBoth):\n",
    "    t = arr[age][gen].split(\"/\")\n",
    "    t[0]=int(t[0])+incBoth\n",
    "    t[1]=int(t[1])+ 1\n",
    "    arr[age][gen]=str(t[0])+\"/\"+str(t[1])\n",
    "with open(sys.argv[3],\"r\") as r:\n",
    "    arr = r.read()\n",
    "    if arr[7:10]== 'int':\n",
    "        temp2 = int(arr[arr.find('>')+1:])\n",
    "    elif arr[7:10] == 'str':\n",
    "        temp2 = arr[arr.find('>')+1:]\n",
    "    elif arr[7:11] == 'bool':\n",
    "        if arr[arr.find('>')+1:] == 'True':\n",
    "            temp2 = True\n",
    "        else:\n",
    "            temp2 = False\n",
    "    elif arr[7:12] == 'float':\n",
    "        temp2 = float(arr[arr.find('>')+1:])\n",
    "    else:\n",
    "        temp2 = eval(arr[arr.find('>')+1:])\n",
    "with open(sys.argv[2],\"r\") as r:\n",
    "    arr = r.read()\n",
    "    if arr[7:10]== 'int':\n",
    "        plotSecond = int(arr[arr.find('>')+1:])\n",
    "    elif arr[7:10] == 'str':\n",
    "        plotSecond = arr[arr.find('>')+1:]\n",
    "    elif arr[7:11] == 'bool':\n",
    "        if arr[arr.find('>')+1:] == 'True':\n",
    "            plotSecond = True\n",
    "        else:\n",
    "            plotSecond = False\n",
    "    elif arr[7:12] == 'float':\n",
    "        plotSecond = float(arr[arr.find('>')+1:])\n",
    "    else:\n",
    "        plotSecond = eval(arr[arr.find('>')+1:])\n",
    "plotSecond = True\n",
    "if plotSecond:\n",
    "    plotted = True\n",
    "    with open(sys.argv[1],\"r\") as r3920n5:\n",
    "        percent2 = eval(r3920n5.read())\n",
    "    for i in range(0,99):\n",
    "        percent2.append([\"0/0\",\"0/0\"])\n",
    "    for num in range(0,len(temp2)):\n",
    "        analyze(percent2,int(int(temp2[num][0])-1) ,int(temp2[num][1]==\"f\"),int(temp2[num][2]==\"t\"))#good\n",
    "with open(sys.argv[4],\"w\") as w392075:\n",
    "    w392075.write(str(type(plotSecond))+'\\n')\n",
    "    w392075.write(str(plotted))\n",
    "with open(sys.argv[5],\"w\") as w392075:\n",
    "    w392075.write(str(type(percent2))+'\\n')\n",
    "    w392075.write(str(percent2))"
   ]
  }
 ],
 "metadata": {
  "kernelspec": {
   "display_name": "Python 3",
   "language": "python",
   "name": "python3"
  },
  "language_info": {
   "codemirror_mode": {
    "name": "ipython",
    "version": 3
   },
   "file_extension": ".py",
   "mimetype": "text/x-python",
   "name": "python",
   "nbconvert_exporter": "python",
   "pygments_lexer": "ipython3",
   "version": "3.6.1"
  }
 },
 "nbformat": 4,
 "nbformat_minor": 2
}
